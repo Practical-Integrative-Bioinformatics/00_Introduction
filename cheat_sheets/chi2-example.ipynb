{
 "cells": [
  {
   "cell_type": "code",
   "execution_count": 1,
   "metadata": {
    "scrolled": true
   },
   "outputs": [
    {
     "name": "stdout",
     "output_type": "stream",
     "text": [
      "The history saving thread hit an unexpected error (DatabaseError('database disk image is malformed')).History will not be written to the database.\n"
     ]
    }
   ],
   "source": [
    "import numpy as np\n",
    "import scipy.stats\n",
    "import matplotlib.pyplot as plt"
   ]
  },
  {
   "cell_type": "markdown",
   "metadata": {},
   "source": [
    "## Chi2-tests\n",
    "\n",
    "Stats textbooks say that the chi2 test statistic under the null hypothesis follows [such and such distribution](https://en.wikipedia.org/wiki/Chi-square_distribution), but it would be nice to confirm this with actual data and see it with our own eyes. We can simulate a lot of random experiments, run a chi2 test on each of them, look at the resulting distribution and compare it to the analytical formula.\n",
    "\n",
    "Let's implement a simple 2x2 chi2 test function called `manual_chi2`. Its input should be two lists, one with observations for condition 1, and another one with corresponding observations for condition 2. The values of the lists can be boolean, `True` if the individual is positive for the condition, and `False` otherwise.\n",
    "\n",
    "The function's usage will be like `manual_chi2([True, True, False, True, False], [False, True, True, False, False])`."
   ]
  },
  {
   "cell_type": "code",
   "execution_count": 2,
   "metadata": {},
   "outputs": [],
   "source": [
    "def manual_chi2(cond1, cond2):\n",
    "    # simple 2x2 chi2 test\n",
    "    # cond1 and cond2 are expected to be lists of 1/0 or True/False values.\n",
    "\n",
    "    N = len(cond1)\n",
    "    p1 = sum(cond1)/N  # proportion of individuals positive for condition 1\n",
    "    p2 = sum(cond2)/N  # proportion of individuals positive for condition 2\n",
    "    \n",
    "    # we know that the absolute difference between expected and observed is the same for\n",
    "    # every cell of a simple 2x2 contingency table (this is why it's said to have 1 degree of freedom)\n",
    "    # so we can choose any cell (say, positive for both) to determine this difference.\n",
    "    # We don't really have to build the entire contingency table.\n",
    "    \n",
    "    expected_11 = p1 * p2 * N  # p1*p2*N expected to be positive for both conditions\n",
    "    actual_11 = sum(1 for x1, x2 in zip(cond1, cond2) if x1 and x2)  # list comprehension with a condition\n",
    "    diff = actual_11 - expected_11\n",
    "    \n",
    "    # We do have to calculate all expected value cells though, they're N*p1*p2, N*(1-p1)*p2, etc.\n",
    "    chi2 = diff**2 * (1/(p1*p2) + 1/((1-p1)*p2) + 1/(p1*(1-p2)) + 1/((1-p1)*(1-p2))) / N\n",
    "    \n",
    "    return chi2"
   ]
  },
  {
   "cell_type": "markdown",
   "metadata": {},
   "source": [
    "Now we can run the simulation. Each \"experiment\" should be using a random sized population with random probabilites for the two conditions. We want to perform the simulation under the null hypothesis (no association between the conditions) which is easy to guarantee if we generate the condition lists separately and randomly."
   ]
  },
  {
   "cell_type": "code",
   "execution_count": 3,
   "metadata": {},
   "outputs": [],
   "source": [
    "chi2_values = []\n",
    "for i in range(10000):\n",
    "    N = np.random.randint(100, 1000)  # define a random sized population\n",
    "    p1 = np.random.uniform(0.1, 0.9)  # pick a random probability for condition 1\n",
    "    p2 = np.random.uniform(0.1, 0.9)  # pick a random probability for condition 2\n",
    "    cond1 = (np.random.random(N) < p1)  # generate N random condition 1 values (True/False) with probability p1 for True\n",
    "    cond2 = (np.random.random(N) < p2)  # generate N random condition 2 values (True/False) with probability p2 for True\n",
    "    chi2 = manual_chi2(cond1, cond2)  # run chi2 test, obtain the test statistic\n",
    "    chi2_values.append(chi2)  # store the chi2 test statistic"
   ]
  },
  {
   "cell_type": "markdown",
   "metadata": {},
   "source": [
    "We have generated 10,000 association experiments under the null hypothesis, and performed a chi2 test on all of them. Now we can look at the distribution of chi2 values. We will display them on a histogram, and we will also plot the theoretical 1-degree-of-freedom chi2 probability density function on top of it for comparison."
   ]
  },
  {
   "cell_type": "code",
   "execution_count": 4,
   "metadata": {
    "scrolled": false
   },
   "outputs": [
    {
     "data": {
      "text/plain": [
       "[<matplotlib.lines.Line2D at 0x7ff0a468b940>]"
      ]
     },
     "execution_count": 4,
     "metadata": {},
     "output_type": "execute_result"
    },
    {
     "data": {
      "image/png": "[encoded data removed]",
      "text/plain": [
       "<Figure size 432x288 with 1 Axes>"
      ]
     },
     "metadata": {
      "needs_background": "light"
     },
     "output_type": "display_data"
    }
   ],
   "source": [
    "# histogram of the chi2 test statistics\n",
    "plt.hist(chi2_values, bins=100, density=True);\n",
    "\n",
    "# line plot of the theoretical distribution\n",
    "x = np.linspace(0, 10, 200)\n",
    "plt.plot(x, scipy.stats.chi2(1).pdf(x), linewidth=2, color='black', alpha=0.8)"
   ]
  },
  {
   "cell_type": "markdown",
   "metadata": {},
   "source": [
    "We could also make an alternative plot with the cumulative distributions. It isn't really necessary here, but it's useful when the test statistics have discrete peaks due to small sample counts or other effects like limited population size."
   ]
  },
  {
   "cell_type": "code",
   "execution_count": 5,
   "metadata": {},
   "outputs": [
    {
     "data": {
      "text/plain": [
       "[<matplotlib.lines.Line2D at 0x7ff0a441d0a0>]"
      ]
     },
     "execution_count": 5,
     "metadata": {},
     "output_type": "execute_result"
    },
    {
     "data": {
      "image/png": "[encoded data removed]",
      "text/plain": [
       "<Figure size 432x288 with 1 Axes>"
      ]
     },
     "metadata": {
      "needs_background": "light"
     },
     "output_type": "display_data"
    }
   ],
   "source": [
    "# Cumulative distributions (more useful when the test statistic has discrete \"peaks\"):\n",
    "plt.hist(chi2_values, bins=100, density=True, cumulative=True);\n",
    "plt.plot(x, scipy.stats.chi2(1).cdf(x), linewidth=2, color='black', alpha=0.8)"
   ]
  },
  {
   "cell_type": "markdown",
   "metadata": {},
   "source": [
    "We have verified that under the null hypothesis, the test statistic distribution matches the theoretical chi2 distribution. The textbooks didn't lie.\n",
    "\n",
    "The cool thing is that even if we hadn't known the analytical form of the chi2 distribution, we could have created a good approximation of it via simulation. That would be called bootstrapping.\n",
    "\n",
    "Usually we prefer to convert test statistics (in this case, the chi2 values) into p-values. A chi2 value of, say, 3.5 isn't too informative on its own, but the corresponding p-value (0.061) has a clear meaning: there's a 6.1% chance of getting a test statistic result larger than 3.5 under the null hypothesis (i.e. due to random chance).\n",
    "\n",
    "So if we want to convert a test statistic `s` into a p-value `p`, we have to check out what proportion of the test statistic distribution is above `s`. The CDF of a distribution tells you the proportion below `s`, therefore `p = 1 - cdf(s)`. This is sometimes called the \"survival function\", so `p = 1 - cdf(s) = sf(s)`."
   ]
  },
  {
   "cell_type": "code",
   "execution_count": 6,
   "metadata": {
    "scrolled": true
   },
   "outputs": [
    {
     "data": {
      "image/png": "[encoded data removed]",
      "text/plain": [
       "<Figure size 432x288 with 1 Axes>"
      ]
     },
     "metadata": {
      "needs_background": "light"
     },
     "output_type": "display_data"
    }
   ],
   "source": [
    "# let's convert chi2 values to p-values:\n",
    "p_values = 1 - scipy.stats.chi2(1).cdf(chi2_values)  # or scipy.stats.chi2(1).sf(chi2_values)\n",
    "\n",
    "# Display them on a histogram:\n",
    "plt.hist(p_values, bins=50, density=True);"
   ]
  },
  {
   "cell_type": "markdown",
   "metadata": {},
   "source": [
    "This is indeed a uniform p-value distribution between 0 and 1, which is the expected behaviour of any well-calibrated and appropriate statistical test under the null hypothesis.\n",
    "\n",
    "From now on, we will not bother with looking at test statistics, or convert them manually into p-values. Every statistical test in `scipy.stats` can do the necessary conversions and return p-values directly. Hopefully you now have a better understanding of how they are produced.\n",
    "\n",
    "And always remember: the p-value distribution *under the null hypothesis* (i.e. assuming no effect) should be uniform. Deviations from this uniform distribution (especially towards the interesting near-0 region) can either suggest a real effect, or a poorly designed experiment / inappropriate statistical test."
   ]
  }
 ],
 "metadata": {
  "kernelspec": {
   "display_name": "Python 3",
   "language": "python",
   "name": "python3"
  },
  "language_info": {
   "codemirror_mode": {
    "name": "ipython",
    "version": 3
   },
   "file_extension": ".py",
   "mimetype": "text/x-python",
   "name": "python",
   "nbconvert_exporter": "python",
   "pygments_lexer": "ipython3",
   "version": "3.8.5"
  }
 },
 "nbformat": 4,
 "nbformat_minor": 4
}
