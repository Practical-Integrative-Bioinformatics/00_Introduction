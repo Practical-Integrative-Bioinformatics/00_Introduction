{
 "cells": [
  {
   "cell_type": "code",
   "execution_count": 11,
   "metadata": {},
   "outputs": [],
   "source": [
    "import numpy as np\n",
    "from scipy.stats import chi2_contingency, fisher_exact\n",
    "import matplotlib.pyplot as plt"
   ]
  },
  {
   "cell_type": "markdown",
   "metadata": {},
   "source": [
    "# P-value distributions with and without effect\n",
    "\n",
    "Since we are already familiar with contingency tables, and their statistical testing, we will stick to them. First, we create a data set with no difference in trait probabilities between the two populations. Let's keep it totally random. We will first come up with two random sizes for populations A and B. Either of them anywhere between 20 to 200 individuals.\n",
    "\n",
    "Then we will generate a random number for the frequency of a trait. Anything between 0 to 100%.\n",
    "\n",
    "Next, we will assign this trait randomly to everyone in both populations, and create the contingency table.\n",
    "\n",
    "Finally, we run a Fisher test (chi2's exact cousin) to check the significance of the difference between the two populations regarding the occurence of the trait. (But remember, there is no REAL difference between them: any difference we see is due to randomness here, since we will use the same probability for the trait for both groups.)\n",
    "\n",
    "You can run the cell below a few times to get a feel for the randomness at play."
   ]
  },
  {
   "cell_type": "code",
   "execution_count": 12,
   "metadata": {},
   "outputs": [
    {
     "name": "stdout",
     "output_type": "stream",
     "text": [
      "population A: 172 individuals\n",
      "population B: 177 individuals\n",
      "\n",
      "trait probability: 0.84\n",
      "\n",
      "positive/negative individuals in population A: 144 /  28\n",
      "positive/negative individuals in population B: 150 /  27\n",
      "\n",
      "Chi2-test p-value: 0.883\n"
     ]
    }
   ],
   "source": [
    "pop_A = np.random.randint(20,200)\n",
    "pop_B = np.random.randint(20,200)\n",
    "print('population A: %d individuals' % pop_A)\n",
    "print('population B: %d individuals' % pop_B)\n",
    "\n",
    "p_trait = np.random.uniform(0, 1.0)\n",
    "print()\n",
    "print('trait probability: %.2f' % p_trait)\n",
    "\n",
    "traits_in_A = (np.random.random(pop_A) < p_trait)\n",
    "positive_in_A = sum(traits_in_A)\n",
    "negative_in_A = pop_A - positive_in_A\n",
    "\n",
    "traits_in_B = (np.random.random(pop_B) < p_trait)\n",
    "positive_in_B = sum(traits_in_B)\n",
    "negative_in_B = pop_B - positive_in_B\n",
    "\n",
    "print()\n",
    "print('positive/negative individuals in population A: %3d / %3d' % (positive_in_A, negative_in_A))\n",
    "print('positive/negative individuals in population B: %3d / %3d' % (positive_in_B, negative_in_B))\n",
    "\n",
    "pval = fisher_exact([[positive_in_A, negative_in_A], [positive_in_B, negative_in_B]])[1]\n",
    "\n",
    "print()\n",
    "print('Chi2-test p-value: %.3f' % pval)\n",
    "#plt.plot(sorted(pvals))"
   ]
  },
  {
   "cell_type": "markdown",
   "metadata": {},
   "source": [
    "Now we run the above 1000 times, every time on random sized populations, with different random trait probabilities,\n",
    "and keep track of the p-values that we see."
   ]
  },
  {
   "cell_type": "code",
   "execution_count": 13,
   "metadata": {},
   "outputs": [],
   "source": [
    "pvals = []\n",
    "for i in range(1000):\n",
    "    pop_A = np.random.randint(10,200)\n",
    "    pop_B = np.random.randint(10,200)\n",
    "\n",
    "    p_trait = np.random.uniform(0, 1.0)\n",
    "\n",
    "    traits_in_A = (np.random.random(pop_A) < p_trait)\n",
    "    positive_in_A = sum(traits_in_A)\n",
    "    negative_in_A = pop_A - positive_in_A\n",
    "\n",
    "    traits_in_B = (np.random.random(pop_B) < p_trait)\n",
    "    positive_in_B = sum(traits_in_B)\n",
    "    negative_in_B = pop_B - positive_in_B\n",
    "\n",
    "    pval = fisher_exact([[positive_in_A, negative_in_A], [positive_in_B, negative_in_B]])[1]\n",
    "    pvals.append(pval)"
   ]
  },
  {
   "cell_type": "markdown",
   "metadata": {},
   "source": [
    "Let's plot the p-values in ascending order. Remember, the test should produce p-values rather uniformly between\n",
    "0 and 1, since we know for a fact that there is no real difference between the populations outside sampling\n",
    "randomness. It should result in a straight line."
   ]
  },
  {
   "cell_type": "code",
   "execution_count": 14,
   "metadata": {
    "scrolled": true
   },
   "outputs": [
    {
     "data": {
      "text/plain": [
       "[<matplotlib.lines.Line2D at 0x7fde2debc748>]"
      ]
     },
     "execution_count": 14,
     "metadata": {},
     "output_type": "execute_result"
    },
    {
     "data": {
      "image/png": "[encoded data removed]",
      "text/plain": [
       "<Figure size 432x288 with 1 Axes>"
      ]
     },
     "metadata": {},
     "output_type": "display_data"
    }
   ],
   "source": [
    "plt.plot(sorted(pvals))"
   ]
  },
  {
   "cell_type": "markdown",
   "metadata": {},
   "source": [
    "In histogram form:"
   ]
  },
  {
   "cell_type": "code",
   "execution_count": 15,
   "metadata": {},
   "outputs": [
    {
     "data": {
      "text/plain": [
       "(array([ 38.,  39.,  35.,  30.,  36.,  43.,  41.,  44.,  50.,  44.,  49.,\n",
       "         44.,  45.,  56.,  46.,  56.,  51.,  34.,  13., 206.]),\n",
       " array([0.00275856, 0.05262064, 0.10248271, 0.15234478, 0.20220685,\n",
       "        0.25206892, 0.30193099, 0.35179307, 0.40165514, 0.45151721,\n",
       "        0.50137928, 0.55124135, 0.60110343, 0.6509655 , 0.70082757,\n",
       "        0.75068964, 0.80055171, 0.85041378, 0.90027586, 0.95013793,\n",
       "        1.        ]),\n",
       " <a list of 20 Patch objects>)"
      ]
     },
     "execution_count": 15,
     "metadata": {},
     "output_type": "execute_result"
    },
    {
     "data": {
      "image/png": "[encoded data removed]",
      "text/plain": [
       "<Figure size 432x288 with 1 Axes>"
      ]
     },
     "metadata": {},
     "output_type": "display_data"
    }
   ],
   "source": [
    "plt.hist(pvals, bins=20)"
   ]
  },
  {
   "cell_type": "markdown",
   "metadata": {},
   "source": [
    "It's flat across the range of possible p-values. That spike near 1.0 is just an artefact of small sample counts,\n",
    "where the expected contingency table matches the observed one perfectly. If we increased the population sizes, this peak would shrink, and the histogram would be perfectly flat.\n",
    "\n",
    "So now, Benjamini-Hochberg-corrected p-values: we don't expect to find anything, after correction we expect to see all p-values close to 1."
   ]
  },
  {
   "cell_type": "code",
   "execution_count": 16,
   "metadata": {},
   "outputs": [
    {
     "data": {
      "text/plain": [
       "(array([   0.,    0.,    0.,    0.,    0.,    0.,    0.,    0.,    0.,\n",
       "           0., 1000.,    0.,    0.,    0.,    0.,    0.,    0.,    0.,\n",
       "           0.,    0.]),\n",
       " array([0.5 , 0.55, 0.6 , 0.65, 0.7 , 0.75, 0.8 , 0.85, 0.9 , 0.95, 1.  ,\n",
       "        1.05, 1.1 , 1.15, 1.2 , 1.25, 1.3 , 1.35, 1.4 , 1.45, 1.5 ]),\n",
       " <a list of 20 Patch objects>)"
      ]
     },
     "execution_count": 16,
     "metadata": {},
     "output_type": "execute_result"
    },
    {
     "data": {
      "image/png": "[encoded data removed]",
      "text/plain": [
       "<Figure size 432x288 with 1 Axes>"
      ]
     },
     "metadata": {},
     "output_type": "display_data"
    }
   ],
   "source": [
    "from statsmodels.sandbox.stats.multicomp import multipletests\n",
    "rej, corrected_p, _, _ = multipletests(pvals, alpha=0.05, method='fdr_bh')\n",
    "plt.hist(corrected_p, bins=20)"
   ]
  },
  {
   "cell_type": "markdown",
   "metadata": {},
   "source": [
    "Now we will mix in traits that DO have differences between the two populations. We will use different trait frequencies in 10% of the cases. And then plot the resulting p-values."
   ]
  },
  {
   "cell_type": "code",
   "execution_count": 17,
   "metadata": {},
   "outputs": [],
   "source": [
    "use_effect = 0.1  # 10% of the time we will use different trait probabilities for the two populations.\n",
    "\n",
    "pvals = []\n",
    "for i in range(1000):\n",
    "    pop_A = np.random.randint(10,200)\n",
    "    pop_B = np.random.randint(10,200)\n",
    "\n",
    "    p_trait_A = np.random.uniform(0, 1.0)\n",
    "    if use_effect < np.random.random():  # now we make a random decision:\n",
    "        p_trait_B = np.random.uniform(0, 1.0)  # we give population B a completely different trait frequency\n",
    "    p_trait_B = p_trait_A if np.random.random()>use_effect else np.random.uniform(0, 1.0)\n",
    "\n",
    "    traits_in_A = (np.random.random(pop_A) < p_trait_A)\n",
    "    positive_in_A = sum(traits_in_A)\n",
    "    negative_in_A = pop_A - positive_in_A\n",
    "\n",
    "    traits_in_B = (np.random.random(pop_B) < p_trait_B)\n",
    "    positive_in_B = sum(traits_in_B)\n",
    "    negative_in_B = pop_B - positive_in_B\n",
    "\n",
    "    pval = fisher_exact([[positive_in_A, negative_in_A], [positive_in_B, negative_in_B]])[1]\n",
    "    pvals.append(pval)"
   ]
  },
  {
   "cell_type": "markdown",
   "metadata": {},
   "source": [
    "We should see a disproportionate amount of very low p-values at the left side of the chart: the 10% of tests where we used a real effect."
   ]
  },
  {
   "cell_type": "code",
   "execution_count": 18,
   "metadata": {
    "scrolled": true
   },
   "outputs": [
    {
     "data": {
      "text/plain": [
       "[<matplotlib.lines.Line2D at 0x7fde2dd23828>]"
      ]
     },
     "execution_count": 18,
     "metadata": {},
     "output_type": "execute_result"
    },
    {
     "data": {
      "image/png": "[encoded data removed]",
      "text/plain": [
       "<Figure size 432x288 with 1 Axes>"
      ]
     },
     "metadata": {},
     "output_type": "display_data"
    }
   ],
   "source": [
    "plt.plot(sorted(pvals))"
   ]
  },
  {
   "cell_type": "code",
   "execution_count": 19,
   "metadata": {},
   "outputs": [
    {
     "data": {
      "text/plain": [
       "(array([116.,  37.,  49.,  34.,  40.,  28.,  32.,  51.,  39.,  41.,  44.,\n",
       "         41.,  43.,  41.,  31.,  43.,  44.,  38.,   8., 200.]),\n",
       " array([4.59543492e-43, 5.00000000e-02, 1.00000000e-01, 1.50000000e-01,\n",
       "        2.00000000e-01, 2.50000000e-01, 3.00000000e-01, 3.50000000e-01,\n",
       "        4.00000000e-01, 4.50000000e-01, 5.00000000e-01, 5.50000000e-01,\n",
       "        6.00000000e-01, 6.50000000e-01, 7.00000000e-01, 7.50000000e-01,\n",
       "        8.00000000e-01, 8.50000000e-01, 9.00000000e-01, 9.50000000e-01,\n",
       "        1.00000000e+00]),\n",
       " <a list of 20 Patch objects>)"
      ]
     },
     "execution_count": 19,
     "metadata": {},
     "output_type": "execute_result"
    },
    {
     "data": {
      "image/png": "[encoded data removed]",
      "text/plain": [
       "<Figure size 432x288 with 1 Axes>"
      ]
     },
     "metadata": {},
     "output_type": "display_data"
    }
   ],
   "source": [
    "plt.hist(pvals, bins=20)"
   ]
  },
  {
   "cell_type": "markdown",
   "metadata": {},
   "source": [
    "The peak around 0 is very obvious. Clearly, some of our tests must have been successful, since we have way more than 5% of samples in the lowest 5% bin. That's usually a sign of a) real effects b) or a poorly designed test. This time it's a)."
   ]
  },
  {
   "cell_type": "code",
   "execution_count": 20,
   "metadata": {
    "scrolled": true
   },
   "outputs": [
    {
     "data": {
      "text/plain": [
       "(array([ 70.,   7.,   4.,   6.,   7.,  11.,   6.,   2.,   5.,   4.,   1.,\n",
       "         22.,   8.,  28.,  25.,   7.,  28.,  15.,  42., 702.]),\n",
       " array([3.91434181e-40, 5.00000000e-02, 1.00000000e-01, 1.50000000e-01,\n",
       "        2.00000000e-01, 2.50000000e-01, 3.00000000e-01, 3.50000000e-01,\n",
       "        4.00000000e-01, 4.50000000e-01, 5.00000000e-01, 5.50000000e-01,\n",
       "        6.00000000e-01, 6.50000000e-01, 7.00000000e-01, 7.50000000e-01,\n",
       "        8.00000000e-01, 8.50000000e-01, 9.00000000e-01, 9.50000000e-01,\n",
       "        1.00000000e+00]),\n",
       " <a list of 20 Patch objects>)"
      ]
     },
     "execution_count": 20,
     "metadata": {},
     "output_type": "execute_result"
    },
    {
     "data": {
      "image/png": "[encoded data removed]",
      "text/plain": [
       "<Figure size 432x288 with 1 Axes>"
      ]
     },
     "metadata": {},
     "output_type": "display_data"
    }
   ],
   "source": [
    "from statsmodels.sandbox.stats.multicomp import multipletests\n",
    "rej, corrected_p, _, _ = multipletests(pvals, alpha=0.05, method='fdr_bh')\n",
    "plt.hist(corrected_p, bins=20)"
   ]
  },
  {
   "cell_type": "markdown",
   "metadata": {},
   "source": [
    "And now we see, the majority of those 10% did survive the corrections."
   ]
  },
  {
   "cell_type": "code",
   "execution_count": null,
   "metadata": {},
   "outputs": [],
   "source": []
  }
 ],
 "metadata": {
  "kernelspec": {
   "display_name": "Python 3",
   "language": "python",
   "name": "python3"
  },
  "language_info": {
   "codemirror_mode": {
    "name": "ipython",
    "version": 3
   },
   "file_extension": ".py",
   "mimetype": "text/x-python",
   "name": "python",
   "nbconvert_exporter": "python",
   "pygments_lexer": "ipython3",
   "version": "3.6.5"
  }
 },
 "nbformat": 4,
 "nbformat_minor": 2
}
